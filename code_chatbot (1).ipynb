{
 "cells": [
  {
   "cell_type": "code",
   "execution_count": 2,
   "metadata": {},
   "outputs": [],
   "source": [
    "import spacy\n",
    "#from textblob import TextBlob\n",
    "\n",
    "import random\n",
    "import logging\n",
    "import os\n",
    "nlp = spacy.load('pt')"
   ]
  },
  {
   "cell_type": "code",
   "execution_count": 3,
   "metadata": {},
   "outputs": [],
   "source": [
    "tags_cumprimento = (\"oi\", \"ola\", \"e ae\", \"falae\", \"opa\")\n",
    "resposta_cumprimento = [\"fala bro\", \"fala truta\", \"e ae Jagunço\", \"Koe meno\"]\n",
    "respostas_vazias = [\"Não sei o que dizer\",\"Vishh....\",\"O que?\",]\n",
    "\n",
    "respostas_comentario_bot_positivos = [\"Não, você quem é demais\",\"Você quem é\",\"Você é o cara\"]\n",
    "respostas_comentario_bot_negativos = [\"Não diga isso\",\"Estou tentando melhora\",\"Estou em busca para ser melhor a cada dia\", \"Não fala assim de mim\",]\n",
    "resposta_dialogo1 = [\"Tudo bem, e com você?\",\"Sim, e contigo?\"]\n",
    "respostas_positivas_dialogo1 = [\"Que ótimo\",\"Fico feliz por você\",\"\"]"
   ]
  },
  {
   "cell_type": "code",
   "execution_count": 4,
   "metadata": {},
   "outputs": [],
   "source": [
    "def localiza_adjetivo(text):\n",
    "    adj = None\n",
    "    for token in text:\n",
    "          if token.pos_ == 'ADJ':  # This is an adjective\n",
    "            adj = token.orth_\n",
    "            break\n",
    "    return adj"
   ]
  },
  {
   "cell_type": "code",
   "execution_count": 5,
   "metadata": {},
   "outputs": [],
   "source": [
    "def localiza_pron(text):\n",
    "    pron = None\n",
    "    for token in text:\n",
    "        if token.pos_ == 'PRON':  # This is an adjective\n",
    "            pron = token.orth_\n",
    "            break\n",
    "    return pron"
   ]
  },
  {
   "cell_type": "code",
   "execution_count": 6,
   "metadata": {},
   "outputs": [],
   "source": [
    "def checar_cumprimento(sentence):\n",
    "    for word in sentence.text.split():\n",
    "        if word.lower() in tags_cumprimento:\n",
    "            return random.choice(resposta_cumprimento)"
   ]
  },
  {
   "cell_type": "code",
   "execution_count": 7,
   "metadata": {},
   "outputs": [],
   "source": [
    "def comentario_bot(sentence):\n",
    "    for word in sentence.text.split():\n",
    "        if word.lower() == 'você':\n",
    "            for word in sentence.text.split():\n",
    "                if word.lower() == 'bom' or word.lower() == 'foda' or word.lower() == 'top' or word.lower() == 'legal':\n",
    "                    return random.choice(respostas_comentario_bot_positivos)\n",
    "                \n",
    "                if word.lower() == 'ruim' or word.lower() == 'lixo' or word.lower() == 'horrivel' or word.lower() == 'chato':\n",
    "                    return random.choice(respostas_comentario_bot_negativos)"
   ]
  },
  {
   "cell_type": "code",
   "execution_count": 8,
   "metadata": {},
   "outputs": [],
   "source": [
    "def dialogo1(sentence):\n",
    "    for word in sentence.text.split():\n",
    "        if word.lower() == 'tudo':\n",
    "            for word in sentence.text.split():\n",
    "                if word.lower() == 'bem' or word.lower() == 'bom' or word.lower() == 'beleza' or word.lower() == 'joia' or word.lower() =='?':\n",
    "                    return random.choice(resposta_dialogo1)"
   ]
  },
  {
   "cell_type": "code",
   "execution_count": 9,
   "metadata": {},
   "outputs": [],
   "source": [
    "def responder(sentence):\n",
    "    resp = None\n",
    "    if not resp: \n",
    "        resp = checar_cumprimento(sentence)\n",
    "  \n",
    "    if not resp: \n",
    "        resp = comentario_bot(sentence)\n",
    "    \n",
    "    if not resp:\n",
    "        resp = dialogo1(sentence)\n",
    "    \n",
    "    if not resp:\n",
    "        resp = random.choice(respostas_vazias)\n",
    "    \n",
    "   \n",
    "        \n",
    "    return resp\n",
    "    "
   ]
  },
  {
   "cell_type": "code",
   "execution_count": null,
   "metadata": {},
   "outputs": [
    {
     "name": "stdout",
     "output_type": "stream",
     "text": [
      "Eu: oi\n",
      "Bot: fala truta\n",
      "Eu: tudo bem \n",
      "Bot: Sim, e contigo?\n",
      "Eu: estou mais ou menos cara\n",
      "Bot: O que?\n",
      "Eu: isso aí\n",
      "Bot: Vishh....\n",
      "Eu: tudo bem ?\n",
      "Bot: Sim, e contigo?\n",
      "Eu: tudo isso ai ?\n",
      "Bot: Sim, e contigo?\n"
     ]
    }
   ],
   "source": [
    "i = 0\n",
    "while i==0:\n",
    "    text = input('Eu: ')\n",
    "    if text == 'tchau':\n",
    "        print('Bot:Até mais meu consagrado')\n",
    "        break\n",
    "    text = nlp(text)\n",
    "    print(\"Bot: \"+responder(text))\n"
   ]
  },
  {
   "cell_type": "code",
   "execution_count": null,
   "metadata": {},
   "outputs": [],
   "source": [
    "def encontrando_partes_importantes()"
   ]
  },
  {
   "cell_type": "code",
   "execution_count": null,
   "metadata": {},
   "outputs": [],
   "source": []
  }
 ],
 "metadata": {
  "kernelspec": {
   "display_name": "Python 3",
   "language": "python",
   "name": "python3"
  },
  "language_info": {
   "codemirror_mode": {
    "name": "ipython",
    "version": 3
   },
   "file_extension": ".py",
   "mimetype": "text/x-python",
   "name": "python",
   "nbconvert_exporter": "python",
   "pygments_lexer": "ipython3",
   "version": "3.7.3"
  }
 },
 "nbformat": 4,
 "nbformat_minor": 2
}
