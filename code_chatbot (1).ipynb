{
 "cells": [
  {
   "cell_type": "code",
   "execution_count": 2,
   "metadata": {},
   "outputs": [],
   "source": [
    "import spacy\n",
    "#from textblob import TextBlob\n",
    "\n",
    "import random\n",
    "import logging\n",
    "import os\n",
    "nlp = spacy.load('pt')"
   ]
  },
  {
   "cell_type": "code",
   "execution_count": 20,
   "metadata": {},
   "outputs": [],
   "source": [
    "tags_cumprimento = (\"oi\", \"ola\", \"eae\", \"falae\", \"opa\")\n",
    "resposta_cumprimento = [\"fala bro\", \"fala truta\", \"e ae Jagunço\", \"Koe meno\"]\n",
    "respostas_vazias = [\"Não sei o que dizer\",\"Vishh....\",\"O que?\",]\n",
    "\n",
    "respostas_comentario_bot_positivos = [\"Não, você quem é demais\",\"Você quem é\",\"Você é o cara\"]\n",
    "respostas_comentario_bot_negativos = [\"Não diga isso\",\"Estou tentando melhora\",\"Estou em busca para ser melhor a cada dia\", \"Não fala assim de mim\",]\n",
    "resposta_dialogo1 = [\"Tudo bem, e com você?\",\"Legal e contigo?\"]\n",
    "respostas_positivas_dialogo1 = [\"Que ótimo\",\"Fico feliz por você\",\"\"]\n",
    "respostas_secas = [\"ok\",\"então tá\",\"é isso aí,como está a família?\"]"
   ]
  },
  {
   "cell_type": "code",
   "execution_count": 4,
   "metadata": {},
   "outputs": [],
   "source": [
    "def localiza_adj(text):\n",
    "    adj = None\n",
    "#    text = nlp(text)\n",
    "    for token in text:\n",
    "          if token.pos_ == 'ADJ':  # This is an adjective\n",
    "            adj = token.orth_\n",
    "            break\n",
    "    return adj"
   ]
  },
  {
   "cell_type": "code",
   "execution_count": 5,
   "metadata": {},
   "outputs": [],
   "source": [
    "def localiza_pron(text):\n",
    "    pron = None\n",
    "#    text = nlp(text)\n",
    "    for token in text:\n",
    "        if token.pos_ == 'PRON':  # This is an adjective\n",
    "            pron = token.orth_\n",
    "            break\n",
    "    return pron"
   ]
  },
  {
   "cell_type": "code",
   "execution_count": 6,
   "metadata": {},
   "outputs": [],
   "source": [
    "def localiza_ponto(text):\n",
    "    punct = None\n",
    "#    text = nlp(text)\n",
    "    for token in text:\n",
    "        if token.pos_ == 'PUNCT':  # This is an Punct\n",
    "            punct = token.orth_\n",
    "            break\n",
    "    return punct"
   ]
  },
  {
   "cell_type": "code",
   "execution_count": 7,
   "metadata": {},
   "outputs": [],
   "source": [
    "def localiza_adv(text):\n",
    "    adv = None\n",
    "#    text = nlp(text)\n",
    "    for token in text:\n",
    "        if token.pos_ == 'ADV':  # This is an Adverbio\n",
    "            adv = token.orth_\n",
    "            break\n",
    "    return adv"
   ]
  },
  {
   "cell_type": "code",
   "execution_count": 8,
   "metadata": {},
   "outputs": [],
   "source": [
    "def checar_cumprimento(sentence):\n",
    "    for word in sentence.text.split():\n",
    "        if word.lower() in tags_cumprimento:\n",
    "            return random.choice(resposta_cumprimento)"
   ]
  },
  {
   "cell_type": "code",
   "execution_count": 9,
   "metadata": {},
   "outputs": [],
   "source": [
    "def comentario_bot(sentence):\n",
    "    for word in sentence.text.split():\n",
    "        if word.lower() == 'você':\n",
    "            for word in sentence.text.split():\n",
    "                if word.lower() == 'bom' or word.lower() == 'foda' or word.lower() == 'top' or word.lower() == 'legal':\n",
    "                    return random.choice(respostas_comentario_bot_positivos)\n",
    "                \n",
    "                if word.lower() == 'ruim' or word.lower() == 'lixo' or word.lower() == 'horrivel' or word.lower() == 'chato':\n",
    "                    return random.choice(respostas_comentario_bot_negativos)"
   ]
  },
  {
   "cell_type": "code",
   "execution_count": 10,
   "metadata": {},
   "outputs": [],
   "source": [
    "def responder(sentence):\n",
    "    resp = None\n",
    "    if not resp: \n",
    "        resp = checar_cumprimento(sentence)\n",
    "  \n",
    "    if not resp: \n",
    "        resp = comentario_bot(sentence)\n",
    "    \n",
    "    if not resp:\n",
    "        resp = formular(sentence)\n",
    "    \n",
    "    if not resp:\n",
    "        resp = random.choice(respostas_vazias)\n",
    "    \n",
    "   \n",
    "        \n",
    "    return resp\n",
    "    "
   ]
  },
  {
   "cell_type": "code",
   "execution_count": 11,
   "metadata": {},
   "outputs": [],
   "source": [
    "def separar_frase(sentence):\n",
    "    resp = None\n",
    "    adj = None\n",
    "    pron = None\n",
    "    adv = None\n",
    "    punct = None\n",
    "#    for word in sentence.text.split():\n",
    "    pron = localiza_pron(sentence)\n",
    "    adj = localiza_adj(sentence)\n",
    "    adv = localiza_adv(sentence)\n",
    "    punct = localiza_ponto(sentence)    \n",
    "    return pron, adj, adv, punct\n",
    "    "
   ]
  },
  {
   "cell_type": "code",
   "execution_count": 12,
   "metadata": {},
   "outputs": [],
   "source": [
    "def formular(sentence):\n",
    "    resp = None\n",
    "    pronome, adjetivo, adverbio, ponto = separar_frase(sentence)\n",
    "    if not resp:\n",
    "        if adverbio:\n",
    "            if ponto == '?':\n",
    "                return random.choice(resposta_dialogo1)"
   ]
  },
  {
   "cell_type": "code",
   "execution_count": null,
   "metadata": {},
   "outputs": [
    {
     "name": "stdout",
     "output_type": "stream",
     "text": [
      "Eu: oi\n",
      "Bot: fala bro\n",
      "Eu: tudo bem\n",
      "Bot: ok\n",
      "Eu: tudo ?\n",
      "Bot: Não sei o que dizer\n",
      "Eu: tudo bem ?\n",
      "Bot: Tudo bem, e com você?\n",
      "Eu: tudo bem também\n",
      "Bot: então tá\n"
     ]
    }
   ],
   "source": [
    "i = 0\n",
    "while i==0:\n",
    "    text = input('Eu: ')\n",
    "    if text.lower() == 'tchau':\n",
    "        print('Bot:Até mais meu consagrado')\n",
    "        break\n",
    "    text = nlp(text)\n",
    "    print(\"Bot: \"+responder(text))\n"
   ]
  },
  {
   "cell_type": "code",
   "execution_count": null,
   "metadata": {},
   "outputs": [],
   "source": []
  }
 ],
 "metadata": {
  "kernelspec": {
   "display_name": "Python 3",
   "language": "python",
   "name": "python3"
  },
  "language_info": {
   "codemirror_mode": {
    "name": "ipython",
    "version": 3
   },
   "file_extension": ".py",
   "mimetype": "text/x-python",
   "name": "python",
   "nbconvert_exporter": "python",
   "pygments_lexer": "ipython3",
   "version": "3.7.3"
  }
 },
 "nbformat": 4,
 "nbformat_minor": 2
}
