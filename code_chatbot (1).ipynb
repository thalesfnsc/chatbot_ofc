{
 "cells": [
  {
   "cell_type": "code",
   "execution_count": 1,
   "metadata": {},
   "outputs": [],
   "source": [
    "import spacy\n",
    "#from textblob import TextBlob\n",
    "\n",
    "import random\n",
    "import logging\n",
    "import os\n",
    "nlp = spacy.load('pt')"
   ]
  },
  {
   "cell_type": "code",
   "execution_count": 18,
   "metadata": {},
   "outputs": [],
   "source": [
    "tags_cumprimento = (\"oi\", \"ola\", \"e ae\", \"falae\", \"opa\")\n",
    "resposta_cumprimento = [\"fala bro\", \"fala truta\", \"e ae Jagunço\", \"Koe meno\"]\n",
    "respostas_vazias = [\"Não sei o que dizer\",\"Vishh....\",\"O que?\",]\n",
    "respostas_comentario_bot_positivos = [\"Não, você quem é demais\",\"Você quem é\",\"Você é o cara\"]\n",
    "respostas_comentario_bot_negativos = [\"Não diga isso\",\"Estou tentando melhora\",\"Estou em busca para ser melhor a cada dia\", \"Não fala assim de mim\",]"
   ]
  },
  {
   "cell_type": "code",
   "execution_count": 19,
   "metadata": {},
   "outputs": [],
   "source": [
    "def localiza_adjetivo(text):\n",
    "    adj = None\n",
    "    for token in text:\n",
    "          if token.pos_ == 'ADJ':  # This is an adjective\n",
    "            adj = token.orth_\n",
    "            break\n",
    "    return adj"
   ]
  },
  {
   "cell_type": "code",
   "execution_count": 20,
   "metadata": {},
   "outputs": [],
   "source": [
    "def localiza_pron(text):\n",
    "    pron = None\n",
    "    for token in text:\n",
    "        if token.pos_ == 'PRON':  # This is an adjective\n",
    "            pron = token.orth_\n",
    "            break\n",
    "    return pron"
   ]
  },
  {
   "cell_type": "code",
   "execution_count": 21,
   "metadata": {},
   "outputs": [],
   "source": [
    "def checar_cumprimento(sentence):\n",
    "    for word in sentence.text.split():\n",
    "        if word.lower() in tags_cumprimento:\n",
    "            return random.choice(resposta_cumprimento)"
   ]
  },
  {
   "cell_type": "code",
   "execution_count": 22,
   "metadata": {},
   "outputs": [],
   "source": [
    "def comentario_bot(sentence):\n",
    "    for word in sentence.text.split():\n",
    "        if word.lower() == 'você':\n",
    "            for word in sentence.text.split():\n",
    "                if word.lower() == 'bom' or word.lower() == 'foda' or word.lower() == 'top' or word.lower() == 'legal':\n",
    "                    return random.choice(respostas_comentario_bot_positivos)\n",
    "                \n",
    "                if word.lower() == 'ruim' or word.lower() == 'lixo' or word.lower() == 'horrivel' or word.lower() == 'chato':\n",
    "                    return random.choice(respostas_comentario_bot_negativos)"
   ]
  },
  {
   "cell_type": "code",
   "execution_count": 23,
   "metadata": {},
   "outputs": [],
   "source": [
    "def responder(sentence):\n",
    "    resp = None\n",
    "    if not resp: \n",
    "        resp = checar_cumprimento(sentence)\n",
    "  \n",
    "    if not resp: \n",
    "        resp = comentario_bot(sentence)\n",
    "    \n",
    "    if not resp:\n",
    "        resp = random.choice(respostas_vazias)\n",
    "        \n",
    "        \n",
    "    return resp\n",
    "    "
   ]
  },
  {
   "cell_type": "code",
   "execution_count": 24,
   "metadata": {},
   "outputs": [
    {
     "name": "stdout",
     "output_type": "stream",
     "text": [
      "Eu: Oi\n",
      "Bot: fala truta\n",
      "Eu: Ola\n",
      "Bot: Koe meno\n",
      "Eu: Você é bom\n",
      "Bot: Você quem é\n",
      "Eu: Você é ruim\n",
      "Bot: Estou em busca para ser melhor a cada dia\n",
      "Eu: Que?\n",
      "Bot: Não sei o que dizer\n",
      "Eu: Você é um lixo\n",
      "Bot: Não fala assim de mim\n",
      "Eu: Você é top\n",
      "Bot: Você é o cara\n",
      "Eu: exit\n"
     ]
    }
   ],
   "source": [
    "i = 0\n",
    "while i==0:\n",
    "    text = input('Eu: ')\n",
    "    if text == 'exit':\n",
    "        break\n",
    "    text = nlp(text)\n",
    "    print(\"Bot: \"+responder(text))"
   ]
  },
  {
   "cell_type": "code",
   "execution_count": 12,
   "metadata": {},
   "outputs": [
    {
     "data": {
      "text/plain": [
       "'exit'"
      ]
     },
     "execution_count": 12,
     "metadata": {},
     "output_type": "execute_result"
    }
   ],
   "source": []
  },
  {
   "cell_type": "code",
   "execution_count": 26,
   "metadata": {},
   "outputs": [],
   "source": [
    "text = nlp(u'você é demais?')"
   ]
  },
  {
   "cell_type": "code",
   "execution_count": 28,
   "metadata": {},
   "outputs": [
    {
     "data": {
      "text/plain": [
       "['você', 'é', 'demais?']"
      ]
     },
     "execution_count": 28,
     "metadata": {},
     "output_type": "execute_result"
    }
   ],
   "source": [
    "text.text.split()"
   ]
  },
  {
   "cell_type": "code",
   "execution_count": 30,
   "metadata": {},
   "outputs": [
    {
     "data": {
      "text/plain": [
       "'Você quem é'"
      ]
     },
     "execution_count": 30,
     "metadata": {},
     "output_type": "execute_result"
    }
   ],
   "source": [
    "a"
   ]
  },
  {
   "cell_type": "code",
   "execution_count": 5,
   "metadata": {},
   "outputs": [
    {
     "data": {
      "text/plain": [
       "[('boas', 'ADJ'),\n",
       " (',', 'PUNCT'),\n",
       " ('bot', 'NOUN'),\n",
       " ('você', 'PRON'),\n",
       " ('é', 'VERB'),\n",
       " ('bom', 'ADJ'),\n",
       " ('?', 'PUNCT')]"
      ]
     },
     "execution_count": 5,
     "metadata": {},
     "output_type": "execute_result"
    }
   ],
   "source": [
    "[(token.orth_, token.pos_) for token in text]"
   ]
  },
  {
   "cell_type": "code",
   "execution_count": 6,
   "metadata": {},
   "outputs": [],
   "source": [
    "pron = None\n",
    "for token in text:\n",
    "        if token.pos_ == 'PRON':  # This is an adjective\n",
    "            pron = token.orth_\n",
    "            break"
   ]
  },
  {
   "cell_type": "code",
   "execution_count": 7,
   "metadata": {},
   "outputs": [
    {
     "data": {
      "text/plain": [
       "'você'"
      ]
     },
     "execution_count": 7,
     "metadata": {},
     "output_type": "execute_result"
    }
   ],
   "source": [
    "pron"
   ]
  },
  {
   "cell_type": "code",
   "execution_count": null,
   "metadata": {},
   "outputs": [],
   "source": []
  }
 ],
 "metadata": {
  "kernelspec": {
   "display_name": "Python 3",
   "language": "python",
   "name": "python3"
  },
  "language_info": {
   "codemirror_mode": {
    "name": "ipython",
    "version": 3
   },
   "file_extension": ".py",
   "mimetype": "text/x-python",
   "name": "python",
   "nbconvert_exporter": "python",
   "pygments_lexer": "ipython3",
   "version": "3.7.3"
  }
 },
 "nbformat": 4,
 "nbformat_minor": 2
}
